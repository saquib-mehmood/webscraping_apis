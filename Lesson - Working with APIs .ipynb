{
 "cells": [
  {
   "cell_type": "markdown",
   "metadata": {},
   "source": [
    "## Lessson - Working with [APIs](https://www.makeuseof.com/tag/api-good-technology-explained/)\n",
    "\n",
    "There are a few situations where data sets don't work well for data analysis:\n",
    "\n",
    "- When the data changes frequently. It doesn't really make sense to regenerate a data set of stock prices, for example, and download it every minute. This approach would require a lot of bandwidth, and be very slow.\n",
    "- You only want a small piece of a much larger data set.` Reddit` comments are one example. What if you want to pull just your own comments from reddit? It doesn't make much sense to download the entire reddit database, then filter it for a few items.\n",
    "- It involves repeated computation. For example, `Spotify` has an API that can tell us the genre of a piece of music. We could theoretically create our own classifier and use it to categorize music, but we'll never have as much data as Spotify does.\n",
    "\n",
    "In cases like these, an `application program interface (API)` is the right solution. An `API` is a set of methods and tools that allows different applications to interact with each other. Programmers use `APIs` to query and retrieve data dynamically (which they can then integrate with their own apps). A client can retrieve information quickly and effectively through an `API`.\n",
    "\n",
    "`Reddit`, `Spotify`, `Twitter`, `Facebook`, and many other companies provide free `APIs` that enable developers to access the information they store on their servers; others charge for access to their APIs.\n",
    "\n",
    "In this lesson, we'll query a basic `API` to retrieve data about the [International Space Station](https://en.wikipedia.org/wiki/International_Space_Station) (ISS). Using an API will save us time and effort, instead of doing all the computation ourselves."
   ]
  },
  {
   "cell_type": "markdown",
   "metadata": {},
   "source": [
    "### API Requests\n",
    "\n",
    "Organizations host their APIs on Web servers. When we type` www.google.com` in our browser's address bar, our computer is actually asking the `www.google.com` server for a Web page, which it then returns to browser.\n",
    "\n",
    "`APIs` work much the same way, except instead of our Web browser asking for a Web page, our program asks for data. The `API` usually returns this data in JavaScript Object Notation (`JSON`) format. \n",
    "\n",
    "We make an `API` request to the Web server we want to get data from. The server then replies and sends it to us. In `Python`, we use the `requests` library to do this.\n",
    "\n",
    "\n"
   ]
  },
  {
   "cell_type": "markdown",
   "metadata": {},
   "source": [
    "### Types of Requests\n",
    "\n",
    "There are many different types of requests. The most common is a `GET` request, which we use to retrieve data.\n",
    "\n",
    "We can use a simple `GET` request to retrieve information from the [OpenNotify API](http://open-notify.org/).\n",
    "\n",
    "`OpenNotify` has several API `endpoints`. An `endpoint` is a server route for retrieving specific data from an API. For example, the `/comments` endpoint on the reddit API might retrieve information about comments, while the` /users` endpoint might retrieve data about users.\n",
    "\n",
    "The first endpoint we'll look at on OpenNotify is the `iss-now.json endpoint`. This endpoint gets the current latitude and longitude position of the ISS. A data set wouldn't be a great fit for this task because the information changes often, and involves some calculation on the server.\n",
    "\n",
    "**Exercise**\n",
    "\n",
    " - retrieve ISS latest location information from the `OpenNotify` API.\n",
    " - The server will send a status code indicating the success or failure of our request. We can get the status code of the response from `response.status_code`.\n",
    "- Assign the status code to the variable `status_code`"
   ]
  },
  {
   "cell_type": "code",
   "execution_count": 1,
   "metadata": {
    "scrolled": true
   },
   "outputs": [
    {
     "name": "stdout",
     "output_type": "stream",
     "text": [
      "<Response [200]>\n",
      "200\n"
     ]
    }
   ],
   "source": [
    "import requests\n",
    "\n",
    "response = requests.get(\"http://api.open-notify.org/iss-now.json\")\n",
    "\n",
    "status_code=response.status_code\n",
    "print(response) \n",
    "print(status_code)"
   ]
  },
  {
   "cell_type": "markdown",
   "metadata": {},
   "source": [
    "### Interpreting Status Codes\n",
    "\n",
    "A status code provides information about what happened with a request. Here are some codes that are relevant to `GET` requests:\n",
    "\n",
    "`200` - Everything went okay, and the server returned a result (if any).\n",
    "`301` - The server is redirecting you to a different endpoint. This can happen when a company switches domain names, or an endpoint's name has changed.\n",
    "`401` - The server thinks you're not authenticated. This happens when you don't send the right credentials to access an API.\n",
    "`400` - The server thinks you made a bad request. This can happen when you don't send the information the API requires to process your request, among other things.\n",
    "`403` - The resource you're trying to access is forbidden; you don't have the right permissions to see it.\n",
    "`404` - The server didn't find the resource you tried to access.\n",
    "\n",
    "**Exercise**\n",
    "- Make a GET request to `http://api.open-notify.org/iss-pass`.\n",
    "- Assign the status code of the response to `status_code`."
   ]
  },
  {
   "cell_type": "code",
   "execution_count": 2,
   "metadata": {},
   "outputs": [
    {
     "name": "stdout",
     "output_type": "stream",
     "text": [
      "404\n"
     ]
    }
   ],
   "source": [
    "\n",
    "print(requests.get(\"http://api.open-notify.org/iss-pass\").status_code)\n",
    "\n"
   ]
  },
  {
   "cell_type": "markdown",
   "metadata": {},
   "source": [
    "### Righ End Point\n",
    "\n",
    "Above, `iss-pass` wasn't a valid endpoint, so the API's server sent us a `404` status code in response. We forgot to add `.json` at the end, like the API [documentation](http://open-notify.org/Open-Notify-API/) tells us to do.\n",
    "\n",
    "**Exercise**\n",
    "\n",
    "- Make a GET request to `http://api.open-notify.org/iss-pass.json`.\n",
    "- Assign the status code of the response to status_code"
   ]
  },
  {
   "cell_type": "code",
   "execution_count": 3,
   "metadata": {
    "scrolled": true
   },
   "outputs": [
    {
     "name": "stdout",
     "output_type": "stream",
     "text": [
      "400\n"
     ]
    }
   ],
   "source": [
    "response=requests.get(\"http://api.open-notify.org/iss-pass.json\")\n",
    "status_code=response.status_code\n",
    "print(status_code)"
   ]
  },
  {
   "cell_type": "markdown",
   "metadata": {},
   "source": [
    "### Query Parameters\n",
    "Above, we got a `400` status code, which indicates a bad request. If we look at the [documentation](http://open-notify.org/Open-Notify-API/) for the OpenNotify API, we see that the ISS Pass endpoint requires two parameters.\n",
    "\n",
    "This endpoint returns the next time the ISS will pass over a given location on the Earth.\n",
    "\n",
    "To request this information, we'll need to pass the coordinates for a specific location to the API. We do this by passing in two parameters, latitude and longitude.\n",
    "\n",
    "To accomplish this, we can add an optional keyword argument, `params`, to our request. In this case, we need to pass in two parameters:\n",
    "\n",
    "`lat` - The latitude of the location\n",
    "`lon` - The longitude of the location\n",
    "\n",
    "We can make a `dictionary` that contains these parameters, and then pass them into the function.\n",
    "\n",
    "We can also do the same thing directly by adding the query parameters to the url, like this:\n",
    "\n",
    "`http://api.open-notify.org/iss-pass.json?lat=40.71&lon=-74`\n",
    "\n",
    "It's always preferable to set up the parameters as a `dictionary`, because the requests library takes care of certain issues, like properly formatting the query parameters.\n",
    "\n",
    "**Exercise**\n",
    "\n",
    "- Use a dictionary and the parameters argument to get a response for the `latitude 37.78` and the `longitude -122.41` (the coordinates of San Francisco).\n",
    "- Retrieve the content of the response with `response.content`.\n",
    "- Assign the content to the variable content."
   ]
  },
  {
   "cell_type": "code",
   "execution_count": 4,
   "metadata": {},
   "outputs": [
    {
     "name": "stdout",
     "output_type": "stream",
     "text": [
      "b'{\\n  \"message\": \"success\", \\n  \"request\": {\\n    \"altitude\": 100, \\n    \"datetime\": 1593489409, \\n    \"latitude\": 37.78, \\n    \"longitude\": -122.41, \\n    \"passes\": 5\\n  }, \\n  \"response\": [\\n    {\\n      \"duration\": 387, \\n      \"risetime\": 1593507605\\n    }, \\n    {\\n      \"duration\": 648, \\n      \"risetime\": 1593513242\\n    }, \\n    {\\n      \"duration\": 599, \\n      \"risetime\": 1593519088\\n    }, \\n    {\\n      \"duration\": 493, \\n      \"risetime\": 1593525013\\n    }, \\n    {\\n      \"duration\": 532, \\n      \"risetime\": 1593530880\\n    }\\n  ]\\n}\\n'\n"
     ]
    }
   ],
   "source": [
    "# Set up the parameters we want to pass to the API.\n",
    "# This is the latitude and longitude of San Francisco City.\n",
    "parameters = {\"lat\": 37.78, \"lon\": -122.41}\n",
    "\n",
    "# Make a get request with the parameters.\n",
    "response = requests.get(\"http://api.open-notify.org/iss-pass.json\", params=parameters)\n",
    "\n",
    "# Assign the content to the variable content\n",
    "content=response.content\n",
    "\n",
    "# Print the content of the response (the data the server returned)\n",
    "print(content)\n",
    "\n"
   ]
  },
  {
   "cell_type": "code",
   "execution_count": 5,
   "metadata": {
    "scrolled": true
   },
   "outputs": [
    {
     "name": "stdout",
     "output_type": "stream",
     "text": [
      "b'{\\n  \"message\": \"success\", \\n  \"request\": {\\n    \"altitude\": 100, \\n    \"datetime\": 1593489409, \\n    \"latitude\": 37.78, \\n    \"longitude\": -122.41, \\n    \"passes\": 5\\n  }, \\n  \"response\": [\\n    {\\n      \"duration\": 387, \\n      \"risetime\": 1593507605\\n    }, \\n    {\\n      \"duration\": 648, \\n      \"risetime\": 1593513242\\n    }, \\n    {\\n      \"duration\": 599, \\n      \"risetime\": 1593519088\\n    }, \\n    {\\n      \"duration\": 493, \\n      \"risetime\": 1593525013\\n    }, \\n    {\\n      \"duration\": 532, \\n      \"risetime\": 1593530880\\n    }\\n  ]\\n}\\n'\n"
     ]
    }
   ],
   "source": [
    "# This gets the same data as the command above\n",
    "response = requests.get(\"http://api.open-notify.org/iss-pass.json?lat=37.78&lon=-122.41\")\n",
    "print(response.content)"
   ]
  },
  {
   "cell_type": "markdown",
   "metadata": {},
   "source": [
    "### JSON Forma\n",
    "JSON format encodes data structures like lists and dictionaries as strings to ensure that machines can read them easily. JSON is the primary format for sending and receiving data through APIs.\n",
    "\n",
    "Python offers great support for JSON through its `json` library. We can convert lists and dictionaries to JSON, and vice versa. Our ISS Pass data, for example, is a dictionary encoded as a string in JSON format.\n",
    "\n",
    "The JSON library has two main methods:\n",
    "\n",
    "`dumps` -- Takes in a Python object, and converts it to a string\n",
    "`loads` -- Takes a JSON string, and converts it to a Python object\n",
    "\n",
    "**Exercise**\n",
    "\n",
    "- Use the JSON function `loads` to convert fast_food_franchise_string to a Python object.\n",
    "- Assign the resulting Python object to fast_food_franchise_2."
   ]
  },
  {
   "cell_type": "code",
   "execution_count": 6,
   "metadata": {},
   "outputs": [
    {
     "name": "stdout",
     "output_type": "stream",
     "text": [
      "<class 'list'>\n",
      "<class 'str'>\n",
      "<class 'list'>\n",
      "<class 'str'>\n",
      "<class 'dict'>\n"
     ]
    }
   ],
   "source": [
    "# Make a list of fast food chains.\n",
    "best_food_chains = [\"Taco Bell\", \"Shake Shack\", \"Chipotle\"]\n",
    "print(type(best_food_chains))\n",
    "\n",
    "# Import the JSON library.\n",
    "import json\n",
    "\n",
    "# Use json.dumps to convert best_food_chains to a string.\n",
    "best_food_chains_string = json.dumps(best_food_chains)\n",
    "print(type(best_food_chains_string))\n",
    "\n",
    "# Convert best_food_chains_string back to a list.\n",
    "print(type(json.loads(best_food_chains_string)))\n",
    "\n",
    "# Make a dictionary\n",
    "fast_food_franchise = {\n",
    "    \"Subway\": 24722,\n",
    "    \"McDonalds\": 14098,\n",
    "    \"Starbucks\": 10821,\n",
    "    \"Pizza Hut\": 7600\n",
    "}\n",
    "\n",
    "# We can also dump a dictionary to a string .\n",
    "fast_food_franchise_string = json.dumps(fast_food_franchise)\n",
    "print(type(fast_food_franchise_string))\n",
    "\n",
    "# convert \"fast_food_franchise_string back to dictionary.\n",
    "fast_food_franchise_2 = json.loads(fast_food_franchise_string)\n",
    "print(type(fast_food_franchise_2))\n"
   ]
  },
  {
   "cell_type": "markdown",
   "metadata": {},
   "source": [
    "We can get the content of a response as a Python object by using the `.json()` method on the response.\n",
    "\n",
    "**Exercise**\n",
    "\n",
    "Get the duration value of the ISS' first pass over San Francisco and assign the value to first_pass_duration."
   ]
  },
  {
   "cell_type": "code",
   "execution_count": 19,
   "metadata": {},
   "outputs": [
    {
     "name": "stdout",
     "output_type": "stream",
     "text": [
      "<class 'dict'>\n",
      "{'message': 'success', 'request': {'altitude': 100, 'datetime': 1593489409, 'latitude': 37.78, 'longitude': -122.41, 'passes': 5}, 'response': [{'duration': 387, 'risetime': 1593507605}, {'duration': 648, 'risetime': 1593513242}, {'duration': 599, 'risetime': 1593519088}, {'duration': 493, 'risetime': 1593525013}, {'duration': 532, 'risetime': 1593530880}]}\n",
      "[{'duration': 387, 'risetime': 1593507605}, {'duration': 648, 'risetime': 1593513242}, {'duration': 599, 'risetime': 1593519088}, {'duration': 493, 'risetime': 1593525013}, {'duration': 532, 'risetime': 1593530880}]\n",
      "{'duration': 387, 'risetime': 1593507605}\n",
      "387\n"
     ]
    }
   ],
   "source": [
    "parameters = {\"lat\": 37.78, \"lon\": -122.41}\n",
    "response = requests.get(\"http://api.open-notify.org/iss-pass.json\", params=parameters)\n",
    "\n",
    "# Get the response data as a Python object.  Verify that it's a dictionary.\n",
    "json_data = response.json()\n",
    "print(type(json_data))\n",
    "print(json_data)\n",
    "\n",
    "pass_list = json_data['response']\n",
    "print(pass_list)\n",
    "\n",
    "first_pass = pass_list[0]\n",
    "print(first_pass)\n",
    "\n",
    "first_pass_duration = first_pass['duration']\n",
    "print(first_pass_duration)\n"
   ]
  },
  {
   "cell_type": "code",
   "execution_count": 23,
   "metadata": {},
   "outputs": [
    {
     "name": "stdout",
     "output_type": "stream",
     "text": [
      "387\n"
     ]
    }
   ],
   "source": [
    "# or as below\n",
    "\n",
    "first_pass_duration = json_data['response'][0]['duration']\n",
    "print(first_pass_duration)"
   ]
  },
  {
   "cell_type": "markdown",
   "metadata": {},
   "source": [
    "### Content Type\n",
    "\n",
    "The server sends more than a status code and the data when it generates a response. It also sends `metadata` containing information on how it generated the data and how to decode it. This information appears in the response headers. We can access it using the `.headers` property that responses have.\n",
    "\n",
    "The headers will appear as a dictionary. The `content-type` within the headers is the most important key. It tells us the format of the response, and how to decode it. For the OpenNotify API, the format is JSON, which is why we could decode it with JSON earlier.\n",
    "\n",
    "**Exercise**\n",
    "\n",
    "- Get content-type from response.headers.\n",
    "- Assign the content type to the content_type variable."
   ]
  },
  {
   "cell_type": "code",
   "execution_count": 28,
   "metadata": {
    "scrolled": true
   },
   "outputs": [
    {
     "name": "stdout",
     "output_type": "stream",
     "text": [
      "{'Server': 'nginx/1.10.3', 'Date': 'Tue, 30 Jun 2020 04:05:04 GMT', 'Content-Type': 'application/json', 'Content-Length': '521', 'Connection': 'keep-alive', 'Via': '1.1 vegur'} \n",
      "\n",
      "application/json\n"
     ]
    }
   ],
   "source": [
    "content_type_dict = response.headers\n",
    "print(content_type_dict, '\\n')\n",
    "\n",
    "content_type = content_type_dict['Content-Type']\n",
    "print(content_type)"
   ]
  },
  {
   "cell_type": "markdown",
   "metadata": {},
   "source": [
    "### Finding out number of People in Space\n",
    "\n",
    "OpenNotify has one more API endpoint, `astros.json`. It tells us how many people are currently in space. You can find the format of the responses [here](http://open-notify.org/Open-Notify-API/People-In-Space/0.\n",
    "\n",
    "**Exercise**\n",
    "- Find how many people are currently in space.\n",
    "- Assign the result to `in_space_count`."
   ]
  },
  {
   "cell_type": "code",
   "execution_count": 33,
   "metadata": {},
   "outputs": [
    {
     "name": "stdout",
     "output_type": "stream",
     "text": [
      "{'message': 'success', 'number': 5, 'people': [{'craft': 'ISS', 'name': 'Chris Cassidy'}, {'craft': 'ISS', 'name': 'Anatoly Ivanishin'}, {'craft': 'ISS', 'name': 'Ivan Vagner'}, {'craft': 'ISS', 'name': 'Doug Hurley'}, {'craft': 'ISS', 'name': 'Bob Behnken'}]} \n",
      "\n",
      "5\n"
     ]
    }
   ],
   "source": [
    "response = requests.get('http://api.open-notify.org/astros.json').json()\n",
    "\n",
    "print(response, '\\n')\n",
    "\n",
    "in_space_count = response['number']\n",
    "print(in_space_count)"
   ]
  }
 ],
 "metadata": {
  "kernelspec": {
   "display_name": "Python 3",
   "language": "python",
   "name": "python3"
  },
  "language_info": {
   "codemirror_mode": {
    "name": "ipython",
    "version": 3
   },
   "file_extension": ".py",
   "mimetype": "text/x-python",
   "name": "python",
   "nbconvert_exporter": "python",
   "pygments_lexer": "ipython3",
   "version": "3.7.6"
  }
 },
 "nbformat": 4,
 "nbformat_minor": 4
}
